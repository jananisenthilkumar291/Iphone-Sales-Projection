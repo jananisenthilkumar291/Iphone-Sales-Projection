{
 "cells": [
  {
   "cell_type": "code",
   "execution_count": 12,
   "metadata": {
    "vscode": {
     "languageId": "r"
    }
   },
   "outputs": [
    {
     "data": {
      "text/html": [
       "'C:/Users/janan/Desktop/jupyter_stuff/690'"
      ],
      "text/latex": [
       "'C:/Users/janan/Desktop/jupyter\\_stuff/690'"
      ],
      "text/markdown": [
       "'C:/Users/janan/Desktop/jupyter_stuff/690'"
      ],
      "text/plain": [
       "[1] \"C:/Users/janan/Desktop/jupyter_stuff/690\""
      ]
     },
     "metadata": {},
     "output_type": "display_data"
    }
   ],
   "source": [
    "suppressMessages(library(tidyverse))\n",
    "suppressMessages(library(tsibble))\n",
    "suppressMessages(library(fable))\n",
    "suppressMessages(library(tsibble))\n",
    "suppressMessages(library(fabletools))\n",
    "suppressMessages(library(feasts))\n",
    "suppressMessages(library(lubridate))\n",
    "suppressMessages(library(dplyr))\n",
    "suppressMessages(library(scales))\n",
    "suppressMessages(library(fpp3))\n",
    "suppressMessages(library(gridExtra))\n",
    "suppressMessages(library(zoo))\n",
    "suppressMessages(library(forecast))\n",
    "getwd()\n",
    "setwd('C:/Users/janan/Desktop/jupyter_stuff/690')"
   ]
  },
  {
   "cell_type": "code",
   "execution_count": null,
   "metadata": {
    "vscode": {
     "languageId": "r"
    }
   },
   "outputs": [],
   "source": [
    "df=read.csv('iphone_Sales.csv')"
   ]
  },
  {
   "cell_type": "code",
   "execution_count": 1,
   "metadata": {
    "vscode": {
     "languageId": "r"
    }
   },
   "outputs": [
    {
     "ename": "ERROR",
     "evalue": "Error in df$Sales: object of type 'closure' is not subsettable\n",
     "output_type": "error",
     "traceback": [
      "Error in df$Sales: object of type 'closure' is not subsettable\nTraceback:\n",
      "1. ts(df$Sales, start = c(year(df$Date[0]), quarter(df$Date[1])), \n .     frequency = 4)"
     ]
    }
   ],
   "source": [
    "whole_sales_data = ts(\n",
    "    df$Sales,\n",
    "    start=c(year(df$Date[0]) , quarter(df$Date[1])),\n",
    "    frequency = 4\n",
    "    )\n",
    "whole_units_data = ts(\n",
    "    df$Units,\n",
    "    start=c(year(df$Date[0]) , quarter(df$Date[1])),\n",
    "    frequency = 4\n",
    "    )\n",
    "whole_sales_per_unit_data = ts(\n",
    "    df$Sales_per_unit,\n",
    "    start=c(year(df$Date[0]) , quarter(df$Date[1])),\n",
    "    frequency = 4\n",
    "    )"
   ]
  },
  {
   "cell_type": "code",
   "execution_count": null,
   "metadata": {
    "vscode": {
     "languageId": "r"
    }
   },
   "outputs": [],
   "source": []
  },
  {
   "cell_type": "code",
   "execution_count": null,
   "metadata": {
    "vscode": {
     "languageId": "r"
    }
   },
   "outputs": [],
   "source": []
  },
  {
   "cell_type": "code",
   "execution_count": 13,
   "metadata": {
    "vscode": {
     "languageId": "r"
    }
   },
   "outputs": [
    {
     "data": {
      "text/html": [
       "<table class=\"dataframe\">\n",
       "<caption>A data.frame: 6 × 4</caption>\n",
       "<thead>\n",
       "\t<tr><th></th><th scope=col>Date</th><th scope=col>Sales</th><th scope=col>Units</th><th scope=col>Sales_per_unit</th></tr>\n",
       "\t<tr><th></th><th scope=col>&lt;qtr&gt;</th><th scope=col>&lt;dbl&gt;</th><th scope=col>&lt;dbl&gt;</th><th scope=col>&lt;dbl&gt;</th></tr>\n",
       "</thead>\n",
       "<tbody>\n",
       "\t<tr><th scope=row>1</th><td>2007 Q3</td><td>  5</td><td>0.27</td><td> 18.51852</td></tr>\n",
       "\t<tr><th scope=row>2</th><td>2007 Q4</td><td>118</td><td>1.12</td><td>105.35714</td></tr>\n",
       "\t<tr><th scope=row>3</th><td>2008 Q1</td><td>241</td><td>2.32</td><td>103.87931</td></tr>\n",
       "\t<tr><th scope=row>4</th><td>2008 Q2</td><td>378</td><td>1.70</td><td>222.35294</td></tr>\n",
       "\t<tr><th scope=row>5</th><td>2008 Q3</td><td>419</td><td>0.72</td><td>581.94444</td></tr>\n",
       "\t<tr><th scope=row>6</th><td>2008 Q4</td><td>806</td><td>6.89</td><td>116.98113</td></tr>\n",
       "</tbody>\n",
       "</table>\n"
      ],
      "text/latex": [
       "A data.frame: 6 × 4\n",
       "\\begin{tabular}{r|llll}\n",
       "  & Date & Sales & Units & Sales\\_per\\_unit\\\\\n",
       "  & <qtr> & <dbl> & <dbl> & <dbl>\\\\\n",
       "\\hline\n",
       "\t1 & 2007 Q3 &   5 & 0.27 &  18.51852\\\\\n",
       "\t2 & 2007 Q4 & 118 & 1.12 & 105.35714\\\\\n",
       "\t3 & 2008 Q1 & 241 & 2.32 & 103.87931\\\\\n",
       "\t4 & 2008 Q2 & 378 & 1.70 & 222.35294\\\\\n",
       "\t5 & 2008 Q3 & 419 & 0.72 & 581.94444\\\\\n",
       "\t6 & 2008 Q4 & 806 & 6.89 & 116.98113\\\\\n",
       "\\end{tabular}\n"
      ],
      "text/markdown": [
       "\n",
       "A data.frame: 6 × 4\n",
       "\n",
       "| <!--/--> | Date &lt;qtr&gt; | Sales &lt;dbl&gt; | Units &lt;dbl&gt; | Sales_per_unit &lt;dbl&gt; |\n",
       "|---|---|---|---|---|\n",
       "| 1 | 2007 Q3 |   5 | 0.27 |  18.51852 |\n",
       "| 2 | 2007 Q4 | 118 | 1.12 | 105.35714 |\n",
       "| 3 | 2008 Q1 | 241 | 2.32 | 103.87931 |\n",
       "| 4 | 2008 Q2 | 378 | 1.70 | 222.35294 |\n",
       "| 5 | 2008 Q3 | 419 | 0.72 | 581.94444 |\n",
       "| 6 | 2008 Q4 | 806 | 6.89 | 116.98113 |\n",
       "\n"
      ],
      "text/plain": [
       "  Date    Sales Units Sales_per_unit\n",
       "1 2007 Q3   5   0.27   18.51852     \n",
       "2 2007 Q4 118   1.12  105.35714     \n",
       "3 2008 Q1 241   2.32  103.87931     \n",
       "4 2008 Q2 378   1.70  222.35294     \n",
       "5 2008 Q3 419   0.72  581.94444     \n",
       "6 2008 Q4 806   6.89  116.98113     "
      ]
     },
     "metadata": {},
     "output_type": "display_data"
    },
    {
     "data": {
      "text/html": [
       "<table class=\"dataframe\">\n",
       "<caption>A data.frame: 6 × 4</caption>\n",
       "<thead>\n",
       "\t<tr><th></th><th scope=col>Date</th><th scope=col>Sales</th><th scope=col>Units</th><th scope=col>Sales_per_unit</th></tr>\n",
       "\t<tr><th></th><th scope=col>&lt;qtr&gt;</th><th scope=col>&lt;int&gt;</th><th scope=col>&lt;lgl&gt;</th><th scope=col>&lt;lgl&gt;</th></tr>\n",
       "</thead>\n",
       "<tbody>\n",
       "\t<tr><th scope=row>1</th><td>2019 Q1</td><td>51982</td><td>NA</td><td>NA</td></tr>\n",
       "\t<tr><th scope=row>2</th><td>2019 Q2</td><td>31051</td><td>NA</td><td>NA</td></tr>\n",
       "\t<tr><th scope=row>3</th><td>2019 Q3</td><td>25986</td><td>NA</td><td>NA</td></tr>\n",
       "\t<tr><th scope=row>4</th><td>2019 Q4</td><td>33362</td><td>NA</td><td>NA</td></tr>\n",
       "\t<tr><th scope=row>5</th><td>2020 Q1</td><td>55957</td><td>NA</td><td>NA</td></tr>\n",
       "\t<tr><th scope=row>6</th><td>2020 Q2</td><td>28962</td><td>NA</td><td>NA</td></tr>\n",
       "</tbody>\n",
       "</table>\n"
      ],
      "text/latex": [
       "A data.frame: 6 × 4\n",
       "\\begin{tabular}{r|llll}\n",
       "  & Date & Sales & Units & Sales\\_per\\_unit\\\\\n",
       "  & <qtr> & <int> & <lgl> & <lgl>\\\\\n",
       "\\hline\n",
       "\t1 & 2019 Q1 & 51982 & NA & NA\\\\\n",
       "\t2 & 2019 Q2 & 31051 & NA & NA\\\\\n",
       "\t3 & 2019 Q3 & 25986 & NA & NA\\\\\n",
       "\t4 & 2019 Q4 & 33362 & NA & NA\\\\\n",
       "\t5 & 2020 Q1 & 55957 & NA & NA\\\\\n",
       "\t6 & 2020 Q2 & 28962 & NA & NA\\\\\n",
       "\\end{tabular}\n"
      ],
      "text/markdown": [
       "\n",
       "A data.frame: 6 × 4\n",
       "\n",
       "| <!--/--> | Date &lt;qtr&gt; | Sales &lt;int&gt; | Units &lt;lgl&gt; | Sales_per_unit &lt;lgl&gt; |\n",
       "|---|---|---|---|---|\n",
       "| 1 | 2019 Q1 | 51982 | NA | NA |\n",
       "| 2 | 2019 Q2 | 31051 | NA | NA |\n",
       "| 3 | 2019 Q3 | 25986 | NA | NA |\n",
       "| 4 | 2019 Q4 | 33362 | NA | NA |\n",
       "| 5 | 2020 Q1 | 55957 | NA | NA |\n",
       "| 6 | 2020 Q2 | 28962 | NA | NA |\n",
       "\n"
      ],
      "text/plain": [
       "  Date    Sales Units Sales_per_unit\n",
       "1 2019 Q1 51982 NA    NA            \n",
       "2 2019 Q2 31051 NA    NA            \n",
       "3 2019 Q3 25986 NA    NA            \n",
       "4 2019 Q4 33362 NA    NA            \n",
       "5 2020 Q1 55957 NA    NA            \n",
       "6 2020 Q2 28962 NA    NA            "
      ]
     },
     "metadata": {},
     "output_type": "display_data"
    }
   ],
   "source": [
    "data = read.csv('train_forecasted_test_2007_2018.csv')\n",
    "data_to_forecast = read.csv('data_2019_2023.csv')\n",
    "data$X <- NULL\n",
    "data_to_forecast$X <- NULL\n",
    "data <- data %>% mutate(Date =yearquarter( as.yearqtr(Date, format = '%Y Q%q')))\n",
    "data_to_forecast <- data_to_forecast %>% mutate(Date = yearquarter(as.yearqtr(Date, format = '%Y Q%q')))\n",
    "\n",
    "data %>% head()\n",
    "data_to_forecast %>% head()"
   ]
  },
  {
   "cell_type": "code",
   "execution_count": 35,
   "metadata": {
    "vscode": {
     "languageId": "r"
    }
   },
   "outputs": [
    {
     "ename": "ERROR",
     "evalue": "Error in parse(text = x, srcfile = src): <text>:1:15: unexpected ','\n1: par(mfrow = (2,\n                  ^\n",
     "output_type": "error",
     "traceback": [
      "Error in parse(text = x, srcfile = src): <text>:1:15: unexpected ','\n1: par(mfrow = (2,\n                  ^\nTraceback:\n"
     ]
    }
   ],
   "source": [
    "par(mfrow = (2,1))\n",
    "data_sales_ts <- ts(data$Sales, frequency = 4) \n",
    "data_sales_ts %>% autoplot()\n",
    "data_sales_ts %>% diff() %>% autoplot()\n",
    "par(mfrow = (1,1))\n",
    "data_units_ts <- ts(data$Units, frequency = 4) \n",
    "data_units_ts %>% autoplot()\n",
    "data_units_ts %>% diff() %>% autoplot()\n",
    "\n",
    "data_sales_per_unit_ts <- ts(data$Sales_per_unit, frequency = 4) \n",
    "data_sales_per_unit_ts %>% autoplot()\n",
    "data_sales_per_unit_ts %>% diff() %>% autoplot()"
   ]
  },
  {
   "cell_type": "code",
   "execution_count": 14,
   "metadata": {
    "vscode": {
     "languageId": "r"
    }
   },
   "outputs": [
    {
     "data": {
      "text/html": [
       "<table class=\"dataframe\">\n",
       "<caption>A data.frame: 6 × 7</caption>\n",
       "<thead>\n",
       "\t<tr><th></th><th scope=col>Date</th><th scope=col>Sales</th><th scope=col>Units</th><th scope=col>Sales_per_unit</th><th scope=col>Forecasted_Units_trend</th><th scope=col>Forecasted_Units_seasonal_trend</th><th scope=col>Forecasted_Units_snaive</th></tr>\n",
       "\t<tr><th></th><th scope=col>&lt;qtr&gt;</th><th scope=col>&lt;int&gt;</th><th scope=col>&lt;lgl&gt;</th><th scope=col>&lt;lgl&gt;</th><th scope=col>&lt;dbl&gt;</th><th scope=col>&lt;dbl&gt;</th><th scope=col>&lt;dbl&gt;</th></tr>\n",
       "</thead>\n",
       "<tbody>\n",
       "\t<tr><th scope=row>1</th><td>2019 Q1</td><td>51982</td><td>NA</td><td>NA</td><td>75.12734</td><td>84.06539</td><td>77.08414</td></tr>\n",
       "\t<tr><th scope=row>2</th><td>2019 Q2</td><td>31051</td><td>NA</td><td>NA</td><td>76.86784</td><td>77.91983</td><td>70.93858</td></tr>\n",
       "\t<tr><th scope=row>3</th><td>2019 Q3</td><td>25986</td><td>NA</td><td>NA</td><td>78.60834</td><td>73.89334</td><td>66.91210</td></tr>\n",
       "\t<tr><th scope=row>4</th><td>2019 Q4</td><td>33362</td><td>NA</td><td>NA</td><td>80.34883</td><td>76.36834</td><td>69.38710</td></tr>\n",
       "\t<tr><th scope=row>5</th><td>2020 Q1</td><td>55957</td><td>NA</td><td>NA</td><td>82.08933</td><td>91.04663</td><td>77.08414</td></tr>\n",
       "\t<tr><th scope=row>6</th><td>2020 Q2</td><td>28962</td><td>NA</td><td>NA</td><td>83.82983</td><td>84.90108</td><td>70.93858</td></tr>\n",
       "</tbody>\n",
       "</table>\n"
      ],
      "text/latex": [
       "A data.frame: 6 × 7\n",
       "\\begin{tabular}{r|lllllll}\n",
       "  & Date & Sales & Units & Sales\\_per\\_unit & Forecasted\\_Units\\_trend & Forecasted\\_Units\\_seasonal\\_trend & Forecasted\\_Units\\_snaive\\\\\n",
       "  & <qtr> & <int> & <lgl> & <lgl> & <dbl> & <dbl> & <dbl>\\\\\n",
       "\\hline\n",
       "\t1 & 2019 Q1 & 51982 & NA & NA & 75.12734 & 84.06539 & 77.08414\\\\\n",
       "\t2 & 2019 Q2 & 31051 & NA & NA & 76.86784 & 77.91983 & 70.93858\\\\\n",
       "\t3 & 2019 Q3 & 25986 & NA & NA & 78.60834 & 73.89334 & 66.91210\\\\\n",
       "\t4 & 2019 Q4 & 33362 & NA & NA & 80.34883 & 76.36834 & 69.38710\\\\\n",
       "\t5 & 2020 Q1 & 55957 & NA & NA & 82.08933 & 91.04663 & 77.08414\\\\\n",
       "\t6 & 2020 Q2 & 28962 & NA & NA & 83.82983 & 84.90108 & 70.93858\\\\\n",
       "\\end{tabular}\n"
      ],
      "text/markdown": [
       "\n",
       "A data.frame: 6 × 7\n",
       "\n",
       "| <!--/--> | Date &lt;qtr&gt; | Sales &lt;int&gt; | Units &lt;lgl&gt; | Sales_per_unit &lt;lgl&gt; | Forecasted_Units_trend &lt;dbl&gt; | Forecasted_Units_seasonal_trend &lt;dbl&gt; | Forecasted_Units_snaive &lt;dbl&gt; |\n",
       "|---|---|---|---|---|---|---|---|\n",
       "| 1 | 2019 Q1 | 51982 | NA | NA | 75.12734 | 84.06539 | 77.08414 |\n",
       "| 2 | 2019 Q2 | 31051 | NA | NA | 76.86784 | 77.91983 | 70.93858 |\n",
       "| 3 | 2019 Q3 | 25986 | NA | NA | 78.60834 | 73.89334 | 66.91210 |\n",
       "| 4 | 2019 Q4 | 33362 | NA | NA | 80.34883 | 76.36834 | 69.38710 |\n",
       "| 5 | 2020 Q1 | 55957 | NA | NA | 82.08933 | 91.04663 | 77.08414 |\n",
       "| 6 | 2020 Q2 | 28962 | NA | NA | 83.82983 | 84.90108 | 70.93858 |\n",
       "\n"
      ],
      "text/plain": [
       "  Date    Sales Units Sales_per_unit Forecasted_Units_trend\n",
       "1 2019 Q1 51982 NA    NA             75.12734              \n",
       "2 2019 Q2 31051 NA    NA             76.86784              \n",
       "3 2019 Q3 25986 NA    NA             78.60834              \n",
       "4 2019 Q4 33362 NA    NA             80.34883              \n",
       "5 2020 Q1 55957 NA    NA             82.08933              \n",
       "6 2020 Q2 28962 NA    NA             83.82983              \n",
       "  Forecasted_Units_seasonal_trend Forecasted_Units_snaive\n",
       "1 84.06539                        77.08414               \n",
       "2 77.91983                        70.93858               \n",
       "3 73.89334                        66.91210               \n",
       "4 76.36834                        69.38710               \n",
       "5 91.04663                        77.08414               \n",
       "6 84.90108                        70.93858               "
      ]
     },
     "metadata": {},
     "output_type": "display_data"
    }
   ],
   "source": [
    "fit <- ts(data$Units, frequency = 4) %>% as_tsibble(index=Date) %>% model(Trend = TSLM(value ~ trend()),`Seasonal Trend` = TSLM(value ~ trend() + season()),SNAIVE = SNAIVE(value))\n",
    "frcst <- fit %>% forecast(h = 4*5)\n",
    "data_to_forecast$Forecasted_Units_trend <-frcst %>% as.data.frame() %>% filter(.model== 'Trend') %>% rename('Forecasted_Units_trend'='.mean') %>% select(Forecasted_Units_trend) %>% unlist()\n",
    "data_to_forecast$Forecasted_Units_seasonal_trend <-frcst %>% as.data.frame() %>% filter(.model== 'Seasonal Trend') %>% rename('Forecasted_Units_seasonal_trend'='.mean') %>% select(Forecasted_Units_seasonal_trend) %>% unlist()\n",
    "data_to_forecast$Forecasted_Units_snaive <-frcst %>% as.data.frame() %>% filter(.model== 'SNAIVE') %>% rename('Forecasted_Units_snaive'='.mean') %>% select(Forecasted_Units_snaive) %>% unlist()\n",
    "data_to_forecast %>% head()"
   ]
  },
  {
   "cell_type": "code",
   "execution_count": 15,
   "metadata": {
    "vscode": {
     "languageId": "r"
    }
   },
   "outputs": [
    {
     "data": {
      "text/html": [
       "<table class=\"dataframe\">\n",
       "<caption>A data.frame: 6 × 10</caption>\n",
       "<thead>\n",
       "\t<tr><th></th><th scope=col>Date</th><th scope=col>Sales</th><th scope=col>Units</th><th scope=col>Sales_per_unit</th><th scope=col>Sales_per_unit_trend</th><th scope=col>Sales_per_unit_seasonal_trend</th><th scope=col>Sales_per_unit_snaive</th><th scope=col>Units_trend</th><th scope=col>Units_seasonal_trend</th><th scope=col>Units_snaive</th></tr>\n",
       "\t<tr><th></th><th scope=col>&lt;qtr&gt;</th><th scope=col>&lt;int&gt;</th><th scope=col>&lt;lgl&gt;</th><th scope=col>&lt;lgl&gt;</th><th scope=col>&lt;dbl&gt;</th><th scope=col>&lt;dbl&gt;</th><th scope=col>&lt;dbl&gt;</th><th scope=col>&lt;dbl&gt;</th><th scope=col>&lt;dbl&gt;</th><th scope=col>&lt;dbl&gt;</th></tr>\n",
       "</thead>\n",
       "<tbody>\n",
       "\t<tr><th scope=row>1</th><td>2019 Q1</td><td>51982</td><td>NA</td><td>NA</td><td>691.9186</td><td>618.3520</td><td>674.3540</td><td>75.12734</td><td>84.06539</td><td>77.08414</td></tr>\n",
       "\t<tr><th scope=row>2</th><td>2019 Q2</td><td>31051</td><td>NA</td><td>NA</td><td>403.9531</td><td>398.4993</td><td>437.7167</td><td>76.86784</td><td>77.91983</td><td>70.93858</td></tr>\n",
       "\t<tr><th scope=row>3</th><td>2019 Q3</td><td>25986</td><td>NA</td><td>NA</td><td>330.5756</td><td>351.6690</td><td>388.3603</td><td>78.60834</td><td>73.89334</td><td>66.91210</td></tr>\n",
       "\t<tr><th scope=row>4</th><td>2019 Q4</td><td>33362</td><td>NA</td><td>NA</td><td>415.2145</td><td>436.8564</td><td>480.8099</td><td>80.34883</td><td>76.36834</td><td>69.38710</td></tr>\n",
       "\t<tr><th scope=row>5</th><td>2020 Q1</td><td>55957</td><td>NA</td><td>NA</td><td>681.6598</td><td>614.5971</td><td>725.9210</td><td>82.08933</td><td>91.04663</td><td>77.08414</td></tr>\n",
       "\t<tr><th scope=row>6</th><td>2020 Q2</td><td>28962</td><td>NA</td><td>NA</td><td>345.4856</td><td>341.1264</td><td>408.2686</td><td>83.82983</td><td>84.90108</td><td>70.93858</td></tr>\n",
       "</tbody>\n",
       "</table>\n"
      ],
      "text/latex": [
       "A data.frame: 6 × 10\n",
       "\\begin{tabular}{r|llllllllll}\n",
       "  & Date & Sales & Units & Sales\\_per\\_unit & Sales\\_per\\_unit\\_trend & Sales\\_per\\_unit\\_seasonal\\_trend & Sales\\_per\\_unit\\_snaive & Units\\_trend & Units\\_seasonal\\_trend & Units\\_snaive\\\\\n",
       "  & <qtr> & <int> & <lgl> & <lgl> & <dbl> & <dbl> & <dbl> & <dbl> & <dbl> & <dbl>\\\\\n",
       "\\hline\n",
       "\t1 & 2019 Q1 & 51982 & NA & NA & 691.9186 & 618.3520 & 674.3540 & 75.12734 & 84.06539 & 77.08414\\\\\n",
       "\t2 & 2019 Q2 & 31051 & NA & NA & 403.9531 & 398.4993 & 437.7167 & 76.86784 & 77.91983 & 70.93858\\\\\n",
       "\t3 & 2019 Q3 & 25986 & NA & NA & 330.5756 & 351.6690 & 388.3603 & 78.60834 & 73.89334 & 66.91210\\\\\n",
       "\t4 & 2019 Q4 & 33362 & NA & NA & 415.2145 & 436.8564 & 480.8099 & 80.34883 & 76.36834 & 69.38710\\\\\n",
       "\t5 & 2020 Q1 & 55957 & NA & NA & 681.6598 & 614.5971 & 725.9210 & 82.08933 & 91.04663 & 77.08414\\\\\n",
       "\t6 & 2020 Q2 & 28962 & NA & NA & 345.4856 & 341.1264 & 408.2686 & 83.82983 & 84.90108 & 70.93858\\\\\n",
       "\\end{tabular}\n"
      ],
      "text/markdown": [
       "\n",
       "A data.frame: 6 × 10\n",
       "\n",
       "| <!--/--> | Date &lt;qtr&gt; | Sales &lt;int&gt; | Units &lt;lgl&gt; | Sales_per_unit &lt;lgl&gt; | Sales_per_unit_trend &lt;dbl&gt; | Sales_per_unit_seasonal_trend &lt;dbl&gt; | Sales_per_unit_snaive &lt;dbl&gt; | Units_trend &lt;dbl&gt; | Units_seasonal_trend &lt;dbl&gt; | Units_snaive &lt;dbl&gt; |\n",
       "|---|---|---|---|---|---|---|---|---|---|---|\n",
       "| 1 | 2019 Q1 | 51982 | NA | NA | 691.9186 | 618.3520 | 674.3540 | 75.12734 | 84.06539 | 77.08414 |\n",
       "| 2 | 2019 Q2 | 31051 | NA | NA | 403.9531 | 398.4993 | 437.7167 | 76.86784 | 77.91983 | 70.93858 |\n",
       "| 3 | 2019 Q3 | 25986 | NA | NA | 330.5756 | 351.6690 | 388.3603 | 78.60834 | 73.89334 | 66.91210 |\n",
       "| 4 | 2019 Q4 | 33362 | NA | NA | 415.2145 | 436.8564 | 480.8099 | 80.34883 | 76.36834 | 69.38710 |\n",
       "| 5 | 2020 Q1 | 55957 | NA | NA | 681.6598 | 614.5971 | 725.9210 | 82.08933 | 91.04663 | 77.08414 |\n",
       "| 6 | 2020 Q2 | 28962 | NA | NA | 345.4856 | 341.1264 | 408.2686 | 83.82983 | 84.90108 | 70.93858 |\n",
       "\n"
      ],
      "text/plain": [
       "  Date    Sales Units Sales_per_unit Sales_per_unit_trend\n",
       "1 2019 Q1 51982 NA    NA             691.9186            \n",
       "2 2019 Q2 31051 NA    NA             403.9531            \n",
       "3 2019 Q3 25986 NA    NA             330.5756            \n",
       "4 2019 Q4 33362 NA    NA             415.2145            \n",
       "5 2020 Q1 55957 NA    NA             681.6598            \n",
       "6 2020 Q2 28962 NA    NA             345.4856            \n",
       "  Sales_per_unit_seasonal_trend Sales_per_unit_snaive Units_trend\n",
       "1 618.3520                      674.3540              75.12734   \n",
       "2 398.4993                      437.7167              76.86784   \n",
       "3 351.6690                      388.3603              78.60834   \n",
       "4 436.8564                      480.8099              80.34883   \n",
       "5 614.5971                      725.9210              82.08933   \n",
       "6 341.1264                      408.2686              83.82983   \n",
       "  Units_seasonal_trend Units_snaive\n",
       "1 84.06539             77.08414    \n",
       "2 77.91983             70.93858    \n",
       "3 73.89334             66.91210    \n",
       "4 76.36834             69.38710    \n",
       "5 91.04663             77.08414    \n",
       "6 84.90108             70.93858    "
      ]
     },
     "metadata": {},
     "output_type": "display_data"
    }
   ],
   "source": [
    "data_to_forecast$Sales_per_unit_trend = data_to_forecast$Sales/data_to_forecast$Forecasted_Units_trend\n",
    "data_to_forecast$Sales_per_unit_seasonal_trend = data_to_forecast$Sales/data_to_forecast$Forecasted_Units_seasonal_trend\n",
    "data_to_forecast$Sales_per_unit_snaive = data_to_forecast$Sales/data_to_forecast$Forecasted_Units_snaive\n",
    "forecasted_data <- data_to_forecast\n",
    "\n",
    "forecasted_data$Units_trend <- forecasted_data$Forecasted_Units_trend\n",
    "forecasted_data$Units_seasonal_trend <- forecasted_data$Forecasted_Units_seasonal_trend\n",
    "forecasted_data$Units_snaive <- forecasted_data$Forecasted_Units_snaive\n",
    "forecasted_data$Forecasted_Units_trend <- NULL\n",
    "forecasted_data$Forecasted_Units_seasonal_trend <- NULL\n",
    "forecasted_data$Forecasted_Units_snaive <- NULL\n",
    "forecasted_data %>% head()"
   ]
  },
  {
   "cell_type": "code",
   "execution_count": 30,
   "metadata": {
    "vscode": {
     "languageId": "r"
    }
   },
   "outputs": [
    {
     "data": {
      "text/html": [
       "<table class=\"dataframe\">\n",
       "<caption>A data.frame: 6 × 16</caption>\n",
       "<thead>\n",
       "\t<tr><th></th><th scope=col>Date</th><th scope=col>Sales</th><th scope=col>Units</th><th scope=col>Sales_per_unit</th><th scope=col>Forecasted_Units_trend</th><th scope=col>Forecasted_Units_seasonal_trend</th><th scope=col>Forecasted_Units_snaive</th><th scope=col>Sales_per_unit_trend</th><th scope=col>Sales_per_unit_seasonal_trend</th><th scope=col>Sales_per_unit_snaive</th><th scope=col>Forecasted_Sales_trend</th><th scope=col>Forecasted_Sales_seasonal_trend</th><th scope=col>Forecasted_Sales_snaive</th><th scope=col>Forecasted_Sales_per_unit_trend</th><th scope=col>Forecasted_Sales_per_unit_seasonal_trend</th><th scope=col>Forecasted_Sales_per_unit_snaive</th></tr>\n",
       "\t<tr><th></th><th scope=col>&lt;qtr&gt;</th><th scope=col>&lt;int&gt;</th><th scope=col>&lt;lgl&gt;</th><th scope=col>&lt;lgl&gt;</th><th scope=col>&lt;dbl&gt;</th><th scope=col>&lt;dbl&gt;</th><th scope=col>&lt;dbl&gt;</th><th scope=col>&lt;dbl&gt;</th><th scope=col>&lt;dbl&gt;</th><th scope=col>&lt;dbl&gt;</th><th scope=col>&lt;dbl&gt;</th><th scope=col>&lt;dbl&gt;</th><th scope=col>&lt;dbl&gt;</th><th scope=col>&lt;dbl&gt;</th><th scope=col>&lt;dbl&gt;</th><th scope=col>&lt;dbl&gt;</th></tr>\n",
       "</thead>\n",
       "<tbody>\n",
       "\t<tr><th scope=row>1</th><td>2019 Q1</td><td>51982</td><td>NA</td><td>NA</td><td>75.12734</td><td>84.06539</td><td>77.08414</td><td>691.9186</td><td>618.3520</td><td>674.3540</td><td>48446.31</td><td>55188.88</td><td>50620.99</td><td>821.3589</td><td>861.2101</td><td>823.0953</td></tr>\n",
       "\t<tr><th scope=row>2</th><td>2019 Q2</td><td>31051</td><td>NA</td><td>NA</td><td>76.86784</td><td>77.91983</td><td>70.93858</td><td>403.9531</td><td>398.4993</td><td>437.7167</td><td>49584.38</td><td>50279.33</td><td>45711.44</td><td>830.8470</td><td>853.0785</td><td>814.9637</td></tr>\n",
       "\t<tr><th scope=row>3</th><td>2019 Q3</td><td>25986</td><td>NA</td><td>NA</td><td>78.60834</td><td>73.89334</td><td>66.91210</td><td>330.5756</td><td>351.6690</td><td>388.3603</td><td>50722.44</td><td>47365.36</td><td>42797.47</td><td>840.3352</td><td>833.0785</td><td>794.9637</td></tr>\n",
       "\t<tr><th scope=row>4</th><td>2019 Q4</td><td>33362</td><td>NA</td><td>NA</td><td>80.34883</td><td>76.36834</td><td>69.38710</td><td>415.2145</td><td>436.8564</td><td>480.8099</td><td>51860.51</td><td>48774.96</td><td>44207.07</td><td>849.8234</td><td>804.0599</td><td>765.9451</td></tr>\n",
       "\t<tr><th scope=row>5</th><td>2020 Q1</td><td>55957</td><td>NA</td><td>NA</td><td>82.08933</td><td>91.04663</td><td>77.08414</td><td>681.6598</td><td>614.5971</td><td>725.9210</td><td>52998.57</td><td>59756.77</td><td>50620.99</td><td>859.3116</td><td>899.3249</td><td>823.0953</td></tr>\n",
       "\t<tr><th scope=row>6</th><td>2020 Q2</td><td>28962</td><td>NA</td><td>NA</td><td>83.82983</td><td>84.90108</td><td>70.93858</td><td>345.4856</td><td>341.1264</td><td>408.2686</td><td>54136.64</td><td>54847.21</td><td>45711.44</td><td>868.7998</td><td>891.1933</td><td>814.9637</td></tr>\n",
       "</tbody>\n",
       "</table>\n"
      ],
      "text/latex": [
       "A data.frame: 6 × 16\n",
       "\\begin{tabular}{r|llllllllllllllll}\n",
       "  & Date & Sales & Units & Sales\\_per\\_unit & Forecasted\\_Units\\_trend & Forecasted\\_Units\\_seasonal\\_trend & Forecasted\\_Units\\_snaive & Sales\\_per\\_unit\\_trend & Sales\\_per\\_unit\\_seasonal\\_trend & Sales\\_per\\_unit\\_snaive & Forecasted\\_Sales\\_trend & Forecasted\\_Sales\\_seasonal\\_trend & Forecasted\\_Sales\\_snaive & Forecasted\\_Sales\\_per\\_unit\\_trend & Forecasted\\_Sales\\_per\\_unit\\_seasonal\\_trend & Forecasted\\_Sales\\_per\\_unit\\_snaive\\\\\n",
       "  & <qtr> & <int> & <lgl> & <lgl> & <dbl> & <dbl> & <dbl> & <dbl> & <dbl> & <dbl> & <dbl> & <dbl> & <dbl> & <dbl> & <dbl> & <dbl>\\\\\n",
       "\\hline\n",
       "\t1 & 2019 Q1 & 51982 & NA & NA & 75.12734 & 84.06539 & 77.08414 & 691.9186 & 618.3520 & 674.3540 & 48446.31 & 55188.88 & 50620.99 & 821.3589 & 861.2101 & 823.0953\\\\\n",
       "\t2 & 2019 Q2 & 31051 & NA & NA & 76.86784 & 77.91983 & 70.93858 & 403.9531 & 398.4993 & 437.7167 & 49584.38 & 50279.33 & 45711.44 & 830.8470 & 853.0785 & 814.9637\\\\\n",
       "\t3 & 2019 Q3 & 25986 & NA & NA & 78.60834 & 73.89334 & 66.91210 & 330.5756 & 351.6690 & 388.3603 & 50722.44 & 47365.36 & 42797.47 & 840.3352 & 833.0785 & 794.9637\\\\\n",
       "\t4 & 2019 Q4 & 33362 & NA & NA & 80.34883 & 76.36834 & 69.38710 & 415.2145 & 436.8564 & 480.8099 & 51860.51 & 48774.96 & 44207.07 & 849.8234 & 804.0599 & 765.9451\\\\\n",
       "\t5 & 2020 Q1 & 55957 & NA & NA & 82.08933 & 91.04663 & 77.08414 & 681.6598 & 614.5971 & 725.9210 & 52998.57 & 59756.77 & 50620.99 & 859.3116 & 899.3249 & 823.0953\\\\\n",
       "\t6 & 2020 Q2 & 28962 & NA & NA & 83.82983 & 84.90108 & 70.93858 & 345.4856 & 341.1264 & 408.2686 & 54136.64 & 54847.21 & 45711.44 & 868.7998 & 891.1933 & 814.9637\\\\\n",
       "\\end{tabular}\n"
      ],
      "text/markdown": [
       "\n",
       "A data.frame: 6 × 16\n",
       "\n",
       "| <!--/--> | Date &lt;qtr&gt; | Sales &lt;int&gt; | Units &lt;lgl&gt; | Sales_per_unit &lt;lgl&gt; | Forecasted_Units_trend &lt;dbl&gt; | Forecasted_Units_seasonal_trend &lt;dbl&gt; | Forecasted_Units_snaive &lt;dbl&gt; | Sales_per_unit_trend &lt;dbl&gt; | Sales_per_unit_seasonal_trend &lt;dbl&gt; | Sales_per_unit_snaive &lt;dbl&gt; | Forecasted_Sales_trend &lt;dbl&gt; | Forecasted_Sales_seasonal_trend &lt;dbl&gt; | Forecasted_Sales_snaive &lt;dbl&gt; | Forecasted_Sales_per_unit_trend &lt;dbl&gt; | Forecasted_Sales_per_unit_seasonal_trend &lt;dbl&gt; | Forecasted_Sales_per_unit_snaive &lt;dbl&gt; |\n",
       "|---|---|---|---|---|---|---|---|---|---|---|---|---|---|---|---|---|\n",
       "| 1 | 2019 Q1 | 51982 | NA | NA | 75.12734 | 84.06539 | 77.08414 | 691.9186 | 618.3520 | 674.3540 | 48446.31 | 55188.88 | 50620.99 | 821.3589 | 861.2101 | 823.0953 |\n",
       "| 2 | 2019 Q2 | 31051 | NA | NA | 76.86784 | 77.91983 | 70.93858 | 403.9531 | 398.4993 | 437.7167 | 49584.38 | 50279.33 | 45711.44 | 830.8470 | 853.0785 | 814.9637 |\n",
       "| 3 | 2019 Q3 | 25986 | NA | NA | 78.60834 | 73.89334 | 66.91210 | 330.5756 | 351.6690 | 388.3603 | 50722.44 | 47365.36 | 42797.47 | 840.3352 | 833.0785 | 794.9637 |\n",
       "| 4 | 2019 Q4 | 33362 | NA | NA | 80.34883 | 76.36834 | 69.38710 | 415.2145 | 436.8564 | 480.8099 | 51860.51 | 48774.96 | 44207.07 | 849.8234 | 804.0599 | 765.9451 |\n",
       "| 5 | 2020 Q1 | 55957 | NA | NA | 82.08933 | 91.04663 | 77.08414 | 681.6598 | 614.5971 | 725.9210 | 52998.57 | 59756.77 | 50620.99 | 859.3116 | 899.3249 | 823.0953 |\n",
       "| 6 | 2020 Q2 | 28962 | NA | NA | 83.82983 | 84.90108 | 70.93858 | 345.4856 | 341.1264 | 408.2686 | 54136.64 | 54847.21 | 45711.44 | 868.7998 | 891.1933 | 814.9637 |\n",
       "\n"
      ],
      "text/plain": [
       "  Date    Sales Units Sales_per_unit Forecasted_Units_trend\n",
       "1 2019 Q1 51982 NA    NA             75.12734              \n",
       "2 2019 Q2 31051 NA    NA             76.86784              \n",
       "3 2019 Q3 25986 NA    NA             78.60834              \n",
       "4 2019 Q4 33362 NA    NA             80.34883              \n",
       "5 2020 Q1 55957 NA    NA             82.08933              \n",
       "6 2020 Q2 28962 NA    NA             83.82983              \n",
       "  Forecasted_Units_seasonal_trend Forecasted_Units_snaive Sales_per_unit_trend\n",
       "1 84.06539                        77.08414                691.9186            \n",
       "2 77.91983                        70.93858                403.9531            \n",
       "3 73.89334                        66.91210                330.5756            \n",
       "4 76.36834                        69.38710                415.2145            \n",
       "5 91.04663                        77.08414                681.6598            \n",
       "6 84.90108                        70.93858                345.4856            \n",
       "  Sales_per_unit_seasonal_trend Sales_per_unit_snaive Forecasted_Sales_trend\n",
       "1 618.3520                      674.3540              48446.31              \n",
       "2 398.4993                      437.7167              49584.38              \n",
       "3 351.6690                      388.3603              50722.44              \n",
       "4 436.8564                      480.8099              51860.51              \n",
       "5 614.5971                      725.9210              52998.57              \n",
       "6 341.1264                      408.2686              54136.64              \n",
       "  Forecasted_Sales_seasonal_trend Forecasted_Sales_snaive\n",
       "1 55188.88                        50620.99               \n",
       "2 50279.33                        45711.44               \n",
       "3 47365.36                        42797.47               \n",
       "4 48774.96                        44207.07               \n",
       "5 59756.77                        50620.99               \n",
       "6 54847.21                        45711.44               \n",
       "  Forecasted_Sales_per_unit_trend Forecasted_Sales_per_unit_seasonal_trend\n",
       "1 821.3589                        861.2101                                \n",
       "2 830.8470                        853.0785                                \n",
       "3 840.3352                        833.0785                                \n",
       "4 849.8234                        804.0599                                \n",
       "5 859.3116                        899.3249                                \n",
       "6 868.7998                        891.1933                                \n",
       "  Forecasted_Sales_per_unit_snaive\n",
       "1 823.0953                        \n",
       "2 814.9637                        \n",
       "3 794.9637                        \n",
       "4 765.9451                        \n",
       "5 823.0953                        \n",
       "6 814.9637                        "
      ]
     },
     "metadata": {},
     "output_type": "display_data"
    }
   ],
   "source": [
    "fit <- ts(data$Sales, frequency = 4) %>% as_tsibble(index=Date) %>% model(Trend = TSLM(value ~ trend()),`Seasonal Trend` = TSLM(value ~ trend() + season()),SNAIVE = SNAIVE(value))\n",
    "frcst <- fit %>% forecast(h = 4*5)\n",
    "data_to_forecast$Forecasted_Sales_trend <-frcst %>% as.data.frame() %>% filter(.model== 'Trend') %>% rename('Forecasted_sales_trend'='.mean') %>% select(Forecasted_sales_trend) %>% unlist()\n",
    "data_to_forecast$Forecasted_Sales_seasonal_trend <-frcst %>% as.data.frame() %>% filter(.model== 'Seasonal Trend') %>% rename('Forecasted_sales_seasonal_trend'='.mean') %>% select(Forecasted_sales_seasonal_trend) %>% unlist()\n",
    "data_to_forecast$Forecasted_Sales_snaive <-frcst %>% as.data.frame() %>% filter(.model== 'SNAIVE') %>% rename('Forecasted_sales_snaive'='.mean') %>% select(Forecasted_sales_snaive) %>% unlist()\n",
    "\n",
    "\n",
    "fit <- ts(data$Units, frequency = 4) %>% as_tsibble(index=Date) %>% model(Trend = TSLM(value ~ trend()),`Seasonal Trend` = TSLM(value ~ trend() + season()),SNAIVE = SNAIVE(value))\n",
    "frcst <- fit %>% forecast(h = 4*5)\n",
    "data_to_forecast$Forecasted_Units_trend <-frcst %>% as.data.frame() %>% filter(.model== 'Trend') %>% rename('Forecasted_Units_trend'='.mean') %>% select(Forecasted_Units_trend) %>% unlist()\n",
    "data_to_forecast$Forecasted_Units_seasonal_trend <-frcst %>% as.data.frame() %>% filter(.model== 'Seasonal Trend') %>% rename('Forecasted_Units_seasonal_trend'='.mean') %>% select(Forecasted_Units_seasonal_trend) %>% unlist()\n",
    "data_to_forecast$Forecasted_Units_snaive <-frcst %>% as.data.frame() %>% filter(.model== 'SNAIVE') %>% rename('Forecasted_Units_snaive'='.mean') %>% select(Forecasted_Units_snaive) %>% unlist()\n",
    "\n",
    "\n",
    "fit <- ts(data$Sales_per_unit, frequency = 4) %>% as_tsibble(index=Date) %>% model(Trend = TSLM(value ~ trend()),`Seasonal Trend` = TSLM(value ~ trend() + season()),SNAIVE = SNAIVE(value))\n",
    "frcst <- fit %>% forecast(h = 4*5)\n",
    "data_to_forecast$Forecasted_Sales_per_unit_trend <-frcst %>% as.data.frame() %>% filter(.model== 'Trend') %>% rename('Forecasted_Sales_per_unit_trend'='.mean') %>% select(Forecasted_Sales_per_unit_trend) %>% unlist()\n",
    "data_to_forecast$Forecasted_Sales_per_unit_seasonal_trend <-frcst %>% as.data.frame() %>% filter(.model== 'Seasonal Trend') %>% rename('Forecasted_Sales_per_unit_seasonal_trend'='.mean') %>% select(Forecasted_Sales_per_unit_seasonal_trend) %>% unlist()\n",
    "data_to_forecast$Forecasted_Sales_per_unit_snaive <-frcst %>% as.data.frame() %>% filter(.model== 'SNAIVE') %>% rename('Forecasted_Sales_per_unit_snaive'='.mean') %>% select(Forecasted_Sales_per_unit_snaive) %>% unlist()\n",
    "\n",
    "\n",
    "\n",
    "data_to_forecast %>% head()"
   ]
  },
  {
   "cell_type": "code",
   "execution_count": 28,
   "metadata": {
    "vscode": {
     "languageId": "r"
    }
   },
   "outputs": [
    {
     "data": {
      "image/png": "[encoded data removed]",
      "text/plain": [
       "plot without title"
      ]
     },
     "metadata": {
      "image/png": {
       "height": 420,
       "width": 420
      }
     },
     "output_type": "display_data"
    }
   ],
   "source": [
    "p1 <- ggplot() +\n",
    "    geom_line(data = data, aes(x = Date, y = Sales), color = 'red',size=1) +\n",
    "    geom_line(data = data_to_forecast, aes(x = Date, y = Sales), color= 'pink', size=1)+ ## Sales from the dataset\n",
    "    geom_line(data =data_to_forecast, aes(x = Date, y = Forecasted_Sales_trend), color= 'black', size=1)+\n",
    "    geom_line(data =data_to_forecast, aes(x = Date, y = Forecasted_Sales_seasonal_trend), color= 'blue', size=1)+\n",
    "    geom_line(data =data_to_forecast, aes(x = Date, y = Forecasted_Sales_snaive), color= 'orange', size=1)\n",
    "    \n",
    "p2 <- ggplot() +\n",
    "    geom_line(data = data, aes(x = Date, y = Units), color = 'red', size=1)+\n",
    "    geom_line(data = data_to_forecast, aes(x = Date, y = Forecasted_Units_trend), color= 'black', size=1)+\n",
    "    geom_line(data = data_to_forecast, aes(x = Date, y = Forecasted_Units_seasonal_trend), color= 'blue', size=1)+\n",
    "    geom_line(data = data_to_forecast, aes(x = Date, y = Forecasted_Units_snaive), color= 'orange', size=1)\n",
    "    \n",
    "\n",
    "p3 <- ggplot() +\n",
    "    geom_line(data = data, aes(x = Date, y = Sales_per_unit), color = 'red', size=1)+\n",
    "    geom_line(data = forecasted_data, aes(x = Date,y = Sales_per_unit_trend),color='pink',size = 1) + ## Sales_per_unit using given sales and forecasted units\n",
    "    geom_line(data = forecasted_data, aes(x = Date,y = Sales_per_unit_seasonal_trend),color='#820419',size = 1) + ## Sales_per_unit using given sales and forecasted units\n",
    "    geom_line(data = forecasted_data, aes(x = Date,y = Sales_per_unit_snaive),color='#a63649',size = 1) + ## Sales_per_unit using given sales and forecasted units\n",
    "    geom_line(data = data_to_forecast, aes(x = Date, y = Forecasted_Sales_per_unit_trend), color= 'black', size=1)+\n",
    "    geom_line(data = data_to_forecast, aes(x = Date, y = Forecasted_Sales_per_unit_seasonal_trend), color= 'blue', size=1)+\n",
    "    geom_line(data = data_to_forecast, aes(x = Date, y = Forecasted_Sales_per_unit_snaive), color= 'orange', size=1)\n",
    "\n",
    "\n",
    "\n",
    "grid.arrange(p1,p2,p3,ncol=1)"
   ]
  },
  {
   "cell_type": "markdown",
   "metadata": {},
   "source": [
    "the Seasonal Trend model may provide the most reliable forecast due to its consideration of both trend and seasonality, which are evident in the historical data."
   ]
  },
  {
   "cell_type": "markdown",
   "metadata": {},
   "source": [
    "#### Using Forecasted_data after the analysis from this approach"
   ]
  },
  {
   "cell_type": "code",
   "execution_count": 18,
   "metadata": {
    "vscode": {
     "languageId": "r"
    }
   },
   "outputs": [
    {
     "data": {
      "text/html": [
       "<table class=\"dataframe\">\n",
       "<caption>A data.frame: 6 × 10</caption>\n",
       "<thead>\n",
       "\t<tr><th></th><th scope=col>Date</th><th scope=col>Sales</th><th scope=col>Units</th><th scope=col>Sales_per_unit</th><th scope=col>Sales_per_unit_trend</th><th scope=col>Sales_per_unit_seasonal_trend</th><th scope=col>Sales_per_unit_snaive</th><th scope=col>Units_trend</th><th scope=col>Units_seasonal_trend</th><th scope=col>Units_snaive</th></tr>\n",
       "\t<tr><th></th><th scope=col>&lt;qtr&gt;</th><th scope=col>&lt;int&gt;</th><th scope=col>&lt;lgl&gt;</th><th scope=col>&lt;lgl&gt;</th><th scope=col>&lt;dbl&gt;</th><th scope=col>&lt;dbl&gt;</th><th scope=col>&lt;dbl&gt;</th><th scope=col>&lt;dbl&gt;</th><th scope=col>&lt;dbl&gt;</th><th scope=col>&lt;dbl&gt;</th></tr>\n",
       "</thead>\n",
       "<tbody>\n",
       "\t<tr><th scope=row>1</th><td>2019 Q1</td><td>51982</td><td>NA</td><td>NA</td><td>691.9186</td><td>618.3520</td><td>674.3540</td><td>75.12734</td><td>84.06539</td><td>77.08414</td></tr>\n",
       "\t<tr><th scope=row>2</th><td>2019 Q2</td><td>31051</td><td>NA</td><td>NA</td><td>403.9531</td><td>398.4993</td><td>437.7167</td><td>76.86784</td><td>77.91983</td><td>70.93858</td></tr>\n",
       "\t<tr><th scope=row>3</th><td>2019 Q3</td><td>25986</td><td>NA</td><td>NA</td><td>330.5756</td><td>351.6690</td><td>388.3603</td><td>78.60834</td><td>73.89334</td><td>66.91210</td></tr>\n",
       "\t<tr><th scope=row>4</th><td>2019 Q4</td><td>33362</td><td>NA</td><td>NA</td><td>415.2145</td><td>436.8564</td><td>480.8099</td><td>80.34883</td><td>76.36834</td><td>69.38710</td></tr>\n",
       "\t<tr><th scope=row>5</th><td>2020 Q1</td><td>55957</td><td>NA</td><td>NA</td><td>681.6598</td><td>614.5971</td><td>725.9210</td><td>82.08933</td><td>91.04663</td><td>77.08414</td></tr>\n",
       "\t<tr><th scope=row>6</th><td>2020 Q2</td><td>28962</td><td>NA</td><td>NA</td><td>345.4856</td><td>341.1264</td><td>408.2686</td><td>83.82983</td><td>84.90108</td><td>70.93858</td></tr>\n",
       "</tbody>\n",
       "</table>\n"
      ],
      "text/latex": [
       "A data.frame: 6 × 10\n",
       "\\begin{tabular}{r|llllllllll}\n",
       "  & Date & Sales & Units & Sales\\_per\\_unit & Sales\\_per\\_unit\\_trend & Sales\\_per\\_unit\\_seasonal\\_trend & Sales\\_per\\_unit\\_snaive & Units\\_trend & Units\\_seasonal\\_trend & Units\\_snaive\\\\\n",
       "  & <qtr> & <int> & <lgl> & <lgl> & <dbl> & <dbl> & <dbl> & <dbl> & <dbl> & <dbl>\\\\\n",
       "\\hline\n",
       "\t1 & 2019 Q1 & 51982 & NA & NA & 691.9186 & 618.3520 & 674.3540 & 75.12734 & 84.06539 & 77.08414\\\\\n",
       "\t2 & 2019 Q2 & 31051 & NA & NA & 403.9531 & 398.4993 & 437.7167 & 76.86784 & 77.91983 & 70.93858\\\\\n",
       "\t3 & 2019 Q3 & 25986 & NA & NA & 330.5756 & 351.6690 & 388.3603 & 78.60834 & 73.89334 & 66.91210\\\\\n",
       "\t4 & 2019 Q4 & 33362 & NA & NA & 415.2145 & 436.8564 & 480.8099 & 80.34883 & 76.36834 & 69.38710\\\\\n",
       "\t5 & 2020 Q1 & 55957 & NA & NA & 681.6598 & 614.5971 & 725.9210 & 82.08933 & 91.04663 & 77.08414\\\\\n",
       "\t6 & 2020 Q2 & 28962 & NA & NA & 345.4856 & 341.1264 & 408.2686 & 83.82983 & 84.90108 & 70.93858\\\\\n",
       "\\end{tabular}\n"
      ],
      "text/markdown": [
       "\n",
       "A data.frame: 6 × 10\n",
       "\n",
       "| <!--/--> | Date &lt;qtr&gt; | Sales &lt;int&gt; | Units &lt;lgl&gt; | Sales_per_unit &lt;lgl&gt; | Sales_per_unit_trend &lt;dbl&gt; | Sales_per_unit_seasonal_trend &lt;dbl&gt; | Sales_per_unit_snaive &lt;dbl&gt; | Units_trend &lt;dbl&gt; | Units_seasonal_trend &lt;dbl&gt; | Units_snaive &lt;dbl&gt; |\n",
       "|---|---|---|---|---|---|---|---|---|---|---|\n",
       "| 1 | 2019 Q1 | 51982 | NA | NA | 691.9186 | 618.3520 | 674.3540 | 75.12734 | 84.06539 | 77.08414 |\n",
       "| 2 | 2019 Q2 | 31051 | NA | NA | 403.9531 | 398.4993 | 437.7167 | 76.86784 | 77.91983 | 70.93858 |\n",
       "| 3 | 2019 Q3 | 25986 | NA | NA | 330.5756 | 351.6690 | 388.3603 | 78.60834 | 73.89334 | 66.91210 |\n",
       "| 4 | 2019 Q4 | 33362 | NA | NA | 415.2145 | 436.8564 | 480.8099 | 80.34883 | 76.36834 | 69.38710 |\n",
       "| 5 | 2020 Q1 | 55957 | NA | NA | 681.6598 | 614.5971 | 725.9210 | 82.08933 | 91.04663 | 77.08414 |\n",
       "| 6 | 2020 Q2 | 28962 | NA | NA | 345.4856 | 341.1264 | 408.2686 | 83.82983 | 84.90108 | 70.93858 |\n",
       "\n"
      ],
      "text/plain": [
       "  Date    Sales Units Sales_per_unit Sales_per_unit_trend\n",
       "1 2019 Q1 51982 NA    NA             691.9186            \n",
       "2 2019 Q2 31051 NA    NA             403.9531            \n",
       "3 2019 Q3 25986 NA    NA             330.5756            \n",
       "4 2019 Q4 33362 NA    NA             415.2145            \n",
       "5 2020 Q1 55957 NA    NA             681.6598            \n",
       "6 2020 Q2 28962 NA    NA             345.4856            \n",
       "  Sales_per_unit_seasonal_trend Sales_per_unit_snaive Units_trend\n",
       "1 618.3520                      674.3540              75.12734   \n",
       "2 398.4993                      437.7167              76.86784   \n",
       "3 351.6690                      388.3603              78.60834   \n",
       "4 436.8564                      480.8099              80.34883   \n",
       "5 614.5971                      725.9210              82.08933   \n",
       "6 341.1264                      408.2686              83.82983   \n",
       "  Units_seasonal_trend Units_snaive\n",
       "1 84.06539             77.08414    \n",
       "2 77.91983             70.93858    \n",
       "3 73.89334             66.91210    \n",
       "4 76.36834             69.38710    \n",
       "5 91.04663             77.08414    \n",
       "6 84.90108             70.93858    "
      ]
     },
     "metadata": {},
     "output_type": "display_data"
    }
   ],
   "source": [
    "forecasted_data %>% head()"
   ]
  },
  {
   "cell_type": "code",
   "execution_count": 19,
   "metadata": {
    "vscode": {
     "languageId": "r"
    }
   },
   "outputs": [
    {
     "data": {
      "image/png": "[encoded data removed]",
      "text/plain": [
       "plot without title"
      ]
     },
     "metadata": {
      "image/png": {
       "height": 420,
       "width": 420
      }
     },
     "output_type": "display_data"
    }
   ],
   "source": [
    "p1 <- ggplot() +\n",
    "    geom_line(data = forecasted_data, aes(x = Date, y = Sales_per_unit_seasonal_trend), color = 'red',size=1)+\n",
    "    geom_line(data = data, aes(x = Date, y = Sales_per_unit), color = 'pink',size=1)\n",
    "\n",
    "p2 <- ggplot()+\n",
    "    geom_line(data = forecasted_data, aes(x = Date, y = Units_seasonal_trend),color='red',size = 1)+\n",
    "    geom_line(data = data, aes(x = Date, y = Units), color = 'pink', size = 1)\n",
    "\n",
    "p3 <- ggplot()+\n",
    "    geom_line(data = forecasted_data, aes(x = Date, y = Sales), color = 'red', size = 1)+\n",
    "    geom_line(data = data, aes(x = Date, y = Sales), color = 'pink', size = 1)\n",
    "\n",
    "grid.arrange(p3,p2,p1,ncol=1)\n",
    "\n",
    "finalized_data <- forecasted_data %>% select(Date,Sales,Units_seasonal_trend,Sales_per_unit_seasonal_trend) %>% rename(\n",
    "    Units = Units_seasonal_trend,\n",
    "    Sales_per_unit = Sales_per_unit_seasonal_trend\n",
    ")\n",
    "combined_df = rbind(data, finalized_data)"
   ]
  },
  {
   "cell_type": "code",
   "execution_count": 23,
   "metadata": {
    "vscode": {
     "languageId": "r"
    }
   },
   "outputs": [],
   "source": [
    "fit_sales <- ts(combined_df$Sales, frequency = 4) %>% as_tsibble(index=Date) %>% model(Trend = TSLM(value ~ trend()),`Seasonal Trend` = TSLM(value ~ trend() + season()),SNAIVE = SNAIVE(value))\n",
    "fit_units <- ts(combined_df$Units, frequency = 4) %>% as_tsibble(index=Date) %>% model(Trend = TSLM(value ~ trend()),`Seasonal Trend` = TSLM(value ~ trend() + season()),SNAIVE = SNAIVE(value))\n",
    "fit_Sales_per_unit <- ts(combined_df$Sales_per_unit, frequency = 4) %>% as_tsibble(index=Date) %>% model(Trend = TSLM(value ~ trend()),`Seasonal Trend` = TSLM(value ~ trend() + season()),SNAIVE = SNAIVE(value))\n",
    "\n",
    "frcst_sales <- fit_sales %>% forecast(h = 4*2) \n",
    "frcst_units <- fit_units %>% forecast(h = 4*2)\n",
    "frcst_sales_per_unit <- fit_Sales_per_unit %>% forecast(h = 4*2)\n",
    "\n",
    "future <- data.frame(Date = c('2024 Q1', '2024 Q2', '2024 Q3', '2024 Q4','2025 Q1', '2025 Q2', '2025 Q3', '2025 Q4'))\n",
    "\n",
    "future$sales_trend <- frcst_sales %>% as.data.frame() %>% filter(.model == 'Trend') %>% select(.mean) %>% rename('sales_trend' = .mean) %>% unlist()\n",
    "future$units_trend <- frcst_units %>% as.data.frame() %>% filter(.model == 'Trend') %>% select(.mean) %>% rename('units_trend' = .mean) %>% unlist()\n",
    "future$sales_per_unit_trend <- frcst_sales_per_unit %>% as.data.frame() %>% filter(.model == 'Trend') %>% select(.mean) %>% rename('sales_per_unit' = .mean) %>% unlist()\n",
    "\n",
    "\n",
    "future$sales_seasonal_trend <- frcst_sales %>% as.data.frame() %>% filter(.model == 'Seasonal Trend') %>% select(.mean) %>% rename('sales_seasonal_trend' = .mean) %>% unlist()\n",
    "future$units_seasonal_trend <- frcst_units %>% as.data.frame() %>% filter(.model == 'Seasonal Trend') %>% select(.mean) %>% rename('units_seasonal_trend' = .mean) %>% unlist()\n",
    "future$sales_per_unit_seasonal_trend <- frcst_sales_per_unit %>% as.data.frame() %>% filter(.model == 'Seasonal Trend') %>% select(.mean) %>% rename('sales_per_unit_seasonal_trend' = .mean) %>% unlist()\n",
    "\n",
    "\n",
    "future$sales_snaive <- frcst_sales %>% as.data.frame() %>% filter(.model == 'SNAIVE') %>% select(.mean) %>% rename('sales_snaive' = .mean) %>% unlist()\n",
    "future$units_snaive <- frcst_units %>% as.data.frame() %>% filter(.model == 'SNAIVE') %>% select(.mean) %>% rename('units_snaive' = .mean) %>% unlist()\n",
    "future$sales_per_unit_snaive <- frcst_sales_per_unit %>% as.data.frame() %>% filter(.model == 'SNAIVE') %>% select(.mean) %>% rename('sales_per_unit_snaive' = .mean) %>% unlist()\n",
    "future <- future %>% mutate(Date = yearquarter(as.yearqtr(Date, format = '%Y Q%q')))"
   ]
  },
  {
   "cell_type": "code",
   "execution_count": 24,
   "metadata": {
    "vscode": {
     "languageId": "r"
    }
   },
   "outputs": [
    {
     "name": "stdout",
     "output_type": "stream",
     "text": [
      "'data.frame':\t8 obs. of  10 variables:\n",
      " $ Date                         : qtr [1:8] 2024 Q1, 2024 Q2, 2024 Q3, 2024 Q4, 2025 Q1, 2025 Q2, 2025 Q...\n",
      "   ..@ fiscal_start: num 1\n",
      " $ sales_trend                  : num  56364 57198 58032 58866 59699 ...\n",
      " $ units_trend                  : num  110 112 114 115 117 ...\n",
      " $ sales_per_unit_trend         : num  586 587 588 589 589 ...\n",
      " $ sales_seasonal_trend         : num  66991 57298 52744 54491 70339 ...\n",
      " $ units_seasonal_trend         : num  119 113 109 111 126 ...\n",
      " $ sales_per_unit_seasonal_trend: num  661 598 557 542 664 ...\n",
      " $ sales_snaive                 : num  65775 51334 39669 43805 65775 ...\n",
      " $ units_snaive                 : num  112 106 102 104 112 ...\n",
      " $ sales_per_unit_snaive        : num  587 485 390 420 587 ...\n",
      "'data.frame':\t20 obs. of  4 variables:\n",
      " $ Date          : qtr [1:20] 2019 Q1, 2019 Q2, 2019 Q3, 2019 Q4, 2020 Q1, 2020 Q2, 2020 ...\n",
      "   ..@ fiscal_start: num 1\n",
      " $ Sales         : int  51982 31051 25986 33362 55957 28962 26418 26444 65597 47938 ...\n",
      " $ Units         : num  84.1 77.9 73.9 76.4 91 ...\n",
      " $ Sales_per_unit: num  618 398 352 437 615 ...\n"
     ]
    }
   ],
   "source": [
    "str(future)\n",
    "str(finalized_data)"
   ]
  },
  {
   "cell_type": "code",
   "execution_count": 25,
   "metadata": {
    "vscode": {
     "languageId": "r"
    }
   },
   "outputs": [
    {
     "data": {
      "image/png": "[encoded data removed]",
      "text/plain": [
       "plot without title"
      ]
     },
     "metadata": {
      "image/png": {
       "height": 420,
       "width": 420
      }
     },
     "output_type": "display_data"
    }
   ],
   "source": [
    "p1 <- ggplot()+\n",
    "    geom_line(data = combined_df, aes(x = Date, y = Sales),color = 'red', size = 1)+\n",
    "    geom_line(data = future, aes(x = Date,y = sales_trend), color = 'blue',size = 1)+\n",
    "    geom_line(data = future, aes(x = Date, y = sales_seasonal_trend), color = 'orange', size = 1)+\n",
    "    geom_line(data = future, aes(x = Date, y = sales_snaive), color = 'green', size = 1)\n",
    "p2 <- ggplot()+\n",
    "    geom_line(data = combined_df, aes(x = Date, y = Units), color = 'red',size = 1)+\n",
    "    geom_line(data = future, aes(x = Date,y = units_trend), color = 'blue',size = 1)+\n",
    "    geom_line(data = future, aes(x = Date, y = units_seasonal_trend), color = 'orange', size = 1)+\n",
    "    geom_line(data = future, aes(x = Date, y = units_snaive), color = 'green', size = 1)\n",
    "\n",
    "p3 <- ggplot()+\n",
    "    geom_line(data = combined_df, aes(x = Date,y = Sales_per_unit),color= 'red', size = 1)+\n",
    "    geom_line(data = future, aes(x = Date,y = sales_per_unit_trend), color = 'blue',size = 1)+\n",
    "    geom_line(data = future, aes(x = Date, y = sales_per_unit_seasonal_trend), color = 'orange', size = 1)+\n",
    "    geom_line(data = future, aes(x = Date, y = sales_per_unit_snaive), color = 'green', size = 1)\n",
    "grid.arrange(p1,p2,p3,ncol=1)"
   ]
  },
  {
   "cell_type": "markdown",
   "metadata": {},
   "source": [
    "Based on the provided plot and previous information, the `Seasonal Trend` model appears to perform well, striking a balance between capturing the underlying trend and adjusting for seasonal fluctuations. In the plot, this model's forecasts (indicated in blue for trend and orange for seasonal adjustments) seem to align closely with historical data trends and seasonal patterns, suggesting its effectiveness in accounting for both long-term and cyclical changes. The seasonal trend model demonstrates adaptability to the sales cycles' peaks and troughs, which is crucial for accurate forecasting in data with strong seasonal components."
   ]
  },
  {
   "cell_type": "code",
   "execution_count": 26,
   "metadata": {
    "vscode": {
     "languageId": "r"
    }
   },
   "outputs": [
    {
     "data": {
      "image/png": "[encoded data removed]",
      "text/plain": [
       "plot without title"
      ]
     },
     "metadata": {
      "image/png": {
       "height": 420,
       "width": 420
      }
     },
     "output_type": "display_data"
    }
   ],
   "source": [
    "new_df_with_future_data <- future %>% \n",
    "    select(Date, sales_seasonal_trend,units_seasonal_trend,sales_per_unit_seasonal_trend) %>%\n",
    "    rename('Sales' = sales_seasonal_trend) %>%\n",
    "    rename('Units' = units_seasonal_trend) %>%\n",
    "    rename('Sales_per_unit' = sales_per_unit_seasonal_trend)\n",
    "\n",
    "final <- rbind(combined_df,new_df_with_future_data)\n",
    "p1 <- ggplot()+\n",
    "    geom_line(data = final,aes(x = Date,y = Sales),color = 'red') +\n",
    "    geom_line(data = data,aes(x = Date,y = Sales), color = 'blue')\n",
    "\n",
    "p2 <- ggplot()+\n",
    "    geom_line(data = final,aes(x = Date,y = Units),color = 'red') +\n",
    "    geom_line(data = data,aes(x = Date,y = Units), color = 'blue')\n",
    "\n",
    "p3 <- ggplot()+\n",
    "    geom_line(data = final,aes(x = Date,y = Sales_per_unit),color = 'red') +\n",
    "    geom_line(data = data,aes(x = Date,y = Sales_per_unit), color = 'blue')\n",
    "\n",
    "grid.arrange(p1,p2,p3,ncol=1)"
   ]
  },
  {
   "cell_type": "code",
   "execution_count": 36,
   "metadata": {
    "vscode": {
     "languageId": "r"
    }
   },
   "outputs": [],
   "source": [
    "write.csv(final,'final.csv')"
   ]
  },
  {
   "cell_type": "markdown",
   "metadata": {},
   "source": []
  }
 ],
 "metadata": {
  "kernelspec": {
   "display_name": "R",
   "language": "R",
   "name": "ir"
  },
  "language_info": {
   "codemirror_mode": "r",
   "file_extension": ".r",
   "mimetype": "text/x-r-source",
   "name": "R",
   "pygments_lexer": "r",
   "version": "4.3.3"
  }
 },
 "nbformat": 4,
 "nbformat_minor": 2
}
